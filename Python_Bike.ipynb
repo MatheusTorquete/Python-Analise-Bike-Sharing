{
  "nbformat": 4,
  "nbformat_minor": 0,
  "metadata": {
    "colab": {
      "provenance": []
    },
    "kernelspec": {
      "name": "python3",
      "display_name": "Python 3"
    },
    "language_info": {
      "name": "python"
    }
  },
  "cells": [
    {
      "cell_type": "markdown",
      "source": [
        "# Qual o tamanho desse dataset (número de linhas, número de colunas)?\n",
        "\n"
      ],
      "metadata": {
        "id": "1gLXKnU0QpE0"
      }
    },
    {
      "cell_type": "code",
      "execution_count": null,
      "metadata": {
        "id": "CKbMMtROKs1v",
        "colab": {
          "base_uri": "https://localhost:8080/"
        },
        "outputId": "db4cfa32-ddfc-44cd-9ae0-3f5cb5777024"
      },
      "outputs": [
        {
          "output_type": "stream",
          "name": "stdout",
          "text": [
            "     datetime  rec_id  season  year  month  hour  is_holiday  weekday  \\\n",
            "0  2011-01-01       1       1     0      1     0           0        6   \n",
            "1  2011-01-01       2       1     0      1     1           0        6   \n",
            "2  2011-01-01       3       1     0      1     2           0        6   \n",
            "3  2011-01-01       4       1     0      1     3           0        6   \n",
            "4  2011-01-01       5       1     0      1     4           0        6   \n",
            "5  2011-01-01       6       1     0      1     5           0        6   \n",
            "6  2011-01-01       7       1     0      1     6           0        6   \n",
            "7  2011-01-01       8       1     0      1     7           0        6   \n",
            "8  2011-01-01       9       1     0      1     8           0        6   \n",
            "9  2011-01-01      10       1     0      1     9           0        6   \n",
            "\n",
            "   is_workingday  weather_condition  temp   atemp  humidity  windspeed  \\\n",
            "0              0                  1  0.24  0.2879      0.81     0.0000   \n",
            "1              0                  1  0.22  0.2727      0.80     0.0000   \n",
            "2              0                  1  0.22  0.2727      0.80     0.0000   \n",
            "3              0                  1  0.24  0.2879      0.75     0.0000   \n",
            "4              0                  1  0.24  0.2879      0.75     0.0000   \n",
            "5              0                  2  0.24  0.2576      0.75     0.0896   \n",
            "6              0                  1  0.22  0.2727      0.80     0.0000   \n",
            "7              0                  1  0.20  0.2576      0.86     0.0000   \n",
            "8              0                  1  0.24  0.2879      0.75     0.0000   \n",
            "9              0                  1  0.32  0.3485      0.76     0.0000   \n",
            "\n",
            "   casual  registered  total_count  \n",
            "0       3          13           16  \n",
            "1       8          32           40  \n",
            "2       5          27           32  \n",
            "3       3          10           13  \n",
            "4       0           1            1  \n",
            "5       0           1            1  \n",
            "6       2           0            2  \n",
            "7       1           2            3  \n",
            "8       1           7            8  \n",
            "9       8           6           14  \n",
            "-------------------------\n",
            "(17379, 17)\n"
          ]
        }
      ],
      "source": [
        "import pandas as pd\n",
        "\n",
        "# carregando o arquivo\n",
        "filename = \"bike-sharing.csv\"\n",
        "\n",
        "\n",
        "# Ler o arquivo usando o pandas\n",
        "df = pd.read_csv(\"bike-sharing.csv\")\n",
        "\n",
        "# Verificando os dados\n",
        "print(df.head(10))\n",
        "\n",
        "# Obter o tamanho do dataset (número de linhas, número de colunas)\n",
        "tamanho_dataset = df.shape\n",
        "print('-------------------------')\n",
        "print(tamanho_dataset)\n",
        "\n",
        "\n",
        "\n"
      ]
    },
    {
      "cell_type": "markdown",
      "source": [
        "# Qual a média da coluna windspeed?"
      ],
      "metadata": {
        "id": "2WmAtYpyRB18"
      }
    },
    {
      "cell_type": "code",
      "source": [
        "# Calcular a média da coluna \"windspeed\"\n",
        "media_windspeed = df['windspeed'].mean()\n",
        "\n",
        "print(media_windspeed)"
      ],
      "metadata": {
        "id": "L9RcuTeKQ_9I",
        "colab": {
          "base_uri": "https://localhost:8080/"
        },
        "outputId": "537c379c-60b1-4ed0-9e78-8147893822cb"
      },
      "execution_count": null,
      "outputs": [
        {
          "output_type": "stream",
          "name": "stdout",
          "text": [
            "0.19009760630646177\n"
          ]
        }
      ]
    },
    {
      "cell_type": "markdown",
      "source": [
        "# Qual a média da coluna temp?"
      ],
      "metadata": {
        "id": "9G-xMLETRIss"
      }
    },
    {
      "cell_type": "code",
      "source": [
        "# Calcular a média da coluna \"temp\"\n",
        "media_temp = df['temp'].mean()\n",
        "\n",
        "print(media_temp)"
      ],
      "metadata": {
        "id": "PhEzfNp-RKbi",
        "colab": {
          "base_uri": "https://localhost:8080/"
        },
        "outputId": "73e24167-59c1-4a1c-ed19-c5d2ad18c37e"
      },
      "execution_count": null,
      "outputs": [
        {
          "output_type": "stream",
          "name": "stdout",
          "text": [
            "0.4969871684216583\n"
          ]
        }
      ]
    },
    {
      "cell_type": "markdown",
      "source": [
        "# Quantos registros de locações existem para o ano de 2011 (número de linhas, número de colunas)?"
      ],
      "metadata": {
        "id": "XhTa3YlkRPIk"
      }
    },
    {
      "cell_type": "code",
      "source": [
        "# Filtrar os registros para o ano de 2011\n",
        "df_2011 = df[df['year'] == 2011]\n",
        "\n",
        "# Obter o número de linhas e colunas do DataFrame\n",
        "num_registros_2011 = df_2011.shape[0]\n",
        "num_colunas_2011 = df_2011.shape[1]\n",
        "\n",
        "print(\"Número de registros de locações em 2011:\", num_registros_2011)\n",
        "print(\"Número de colunas em 2011:\", num_colunas_2011)"
      ],
      "metadata": {
        "id": "ySW7m3z7RSMI",
        "colab": {
          "base_uri": "https://localhost:8080/"
        },
        "outputId": "3d545954-68b6-4db1-d54f-075119b1432d"
      },
      "execution_count": null,
      "outputs": [
        {
          "output_type": "stream",
          "name": "stdout",
          "text": [
            "Número de registros de locações em 2011: 0\n",
            "Número de colunas em 2011: 17\n"
          ]
        }
      ]
    },
    {
      "cell_type": "markdown",
      "source": [
        "# Quantos registros de locações existem para o ano de 2012 (número de linhas, número de colunas)?"
      ],
      "metadata": {
        "id": "nmALRi48RYbW"
      }
    },
    {
      "cell_type": "code",
      "source": [
        "# Filtrar os registros para o ano de 2012\n",
        "df_2012 = df[df['year'] == 2012]\n",
        "\n",
        "# Obter o número de linhas e colunas do DataFrame para o ano de 2012\n",
        "num_registros_2012 = df_2012.shape[0]\n",
        "num_colunas_2012 = df_2012.shape[1]\n",
        "\n",
        "print(\"Número de registros de locações em 2012:\", num_registros_2012)\n",
        "print(\"Número de colunas em 2012:\", num_colunas_2012)"
      ],
      "metadata": {
        "id": "bYPhyRd1RcFw",
        "colab": {
          "base_uri": "https://localhost:8080/"
        },
        "outputId": "11ee8b96-ce22-48a2-ebcd-9fa5231c7355"
      },
      "execution_count": null,
      "outputs": [
        {
          "output_type": "stream",
          "name": "stdout",
          "text": [
            "Número de registros de locações em 2012: 0\n",
            "Número de colunas em 2012: 17\n"
          ]
        }
      ]
    },
    {
      "cell_type": "markdown",
      "source": [
        "# Quantas locações de bicicletas foram efetuadas em 2011?"
      ],
      "metadata": {
        "id": "-FABvs_pRq_Q"
      }
    },
    {
      "cell_type": "code",
      "source": [
        "# Filtrar os registros para o ano de 2011\n",
        "df_2011 = df[df['year'] == 2011]\n",
        "\n",
        "# Obter o número total de locações em 2011\n",
        "num_locações_2011 = df_2011['total_count'].sum()\n",
        "\n",
        "print(\"Número de locações de bicicletas em 2011:\", num_locações_2011)"
      ],
      "metadata": {
        "id": "_yjpWxF-RvfN",
        "colab": {
          "base_uri": "https://localhost:8080/"
        },
        "outputId": "6e046183-9663-4d49-8b91-a18bb20ad2e2"
      },
      "execution_count": null,
      "outputs": [
        {
          "output_type": "stream",
          "name": "stdout",
          "text": [
            "Número de locações de bicicletas em 2011: 0\n"
          ]
        }
      ]
    },
    {
      "cell_type": "markdown",
      "source": [
        "# Quantas locações de bicicletas foram efetuadas em 2012?"
      ],
      "metadata": {
        "id": "PxFc0WFwR093"
      }
    },
    {
      "cell_type": "code",
      "source": [
        "# Filtrar os registros para o ano de 2012\n",
        "df_2012 = df[df['year'] == 2012]\n",
        "\n",
        "# Obter o número total de locações em 2012\n",
        "num_locações_2012 = df_2012['total_count'].sum()\n",
        "\n",
        "print(\"Número de locações de bicicletas em 2012:\", num_locações_2012)"
      ],
      "metadata": {
        "id": "vSt101EjR2Ub",
        "colab": {
          "base_uri": "https://localhost:8080/"
        },
        "outputId": "daf2b31b-8eec-493f-f5c1-71fc1979d3f6"
      },
      "execution_count": null,
      "outputs": [
        {
          "output_type": "stream",
          "name": "stdout",
          "text": [
            "Número de locações de bicicletas em 2012: 0\n"
          ]
        }
      ]
    },
    {
      "cell_type": "markdown",
      "source": [
        "# Qual estação do ano contém a maior média de locações de bicicletas?"
      ],
      "metadata": {
        "id": "2Fi63HLwR8iF"
      }
    },
    {
      "cell_type": "code",
      "source": [
        "# Calcular a média de locações por estação do ano\n",
        "media_locacoes_por_estacao = df.groupby('season')['total_count'].mean()\n",
        "\n",
        "# Identificar a estação com a maior média de locações\n",
        "estacao_maior_media = media_locacoes_por_estacao.idxmax()\n",
        "\n",
        "print(\"Estação do ano com a maior média de locações:\", estacao_maior_media)"
      ],
      "metadata": {
        "id": "y_EhjoksR-T8",
        "colab": {
          "base_uri": "https://localhost:8080/"
        },
        "outputId": "cc01c497-9549-4953-e9e8-c71f54c268cd"
      },
      "execution_count": null,
      "outputs": [
        {
          "output_type": "stream",
          "name": "stdout",
          "text": [
            "Estação do ano com a maior média de locações: 3\n"
          ]
        }
      ]
    },
    {
      "cell_type": "markdown",
      "source": [
        "# Qual estação do ano contém a menor média de locações de bicicletas?"
      ],
      "metadata": {
        "id": "ZEooyGeaSKNo"
      }
    },
    {
      "cell_type": "code",
      "source": [
        "# Calcular a média de locações por estação do ano\n",
        "media_locacoes_por_estacao = df.groupby('season')['total_count'].mean()\n",
        "\n",
        "# Identificar a estação com a menor média de locações\n",
        "estacao_menor_media = media_locacoes_por_estacao.idxmin()\n",
        "\n",
        "print(\"Estação do ano com a menor média de locações:\", estacao_menor_media)"
      ],
      "metadata": {
        "id": "o0B-iBcTSN6F",
        "colab": {
          "base_uri": "https://localhost:8080/"
        },
        "outputId": "36e1ae4d-dd3b-4012-df44-b64c25f2a00d"
      },
      "execution_count": null,
      "outputs": [
        {
          "output_type": "stream",
          "name": "stdout",
          "text": [
            "Estação do ano com a menor média de locações: 1\n"
          ]
        }
      ]
    },
    {
      "cell_type": "markdown",
      "source": [
        "# Qual horário do dia contém a maior média de locações de bicicletas?"
      ],
      "metadata": {
        "id": "Cj8PGC9FSmpc"
      }
    },
    {
      "cell_type": "code",
      "source": [
        "# Calcular a média de locações por horário do dia\n",
        "media_locacoes_por_hora = df.groupby('hour')['total_count'].mean()\n",
        "\n",
        "# Identificar o horário do dia com a maior média de locações\n",
        "horario_maior_media = media_locacoes_por_hora.idxmax()\n",
        "\n",
        "print(\"Horário do dia com a maior média de locações:\", horario_maior_media)"
      ],
      "metadata": {
        "id": "V6lkaFWiSoCL",
        "colab": {
          "base_uri": "https://localhost:8080/"
        },
        "outputId": "90038670-3ece-4703-8baa-fb783e013dae"
      },
      "execution_count": null,
      "outputs": [
        {
          "output_type": "stream",
          "name": "stdout",
          "text": [
            "Horário do dia com a maior média de locações: 17\n"
          ]
        }
      ]
    },
    {
      "cell_type": "markdown",
      "source": [
        "# Qual horário do dia contém a menor média de locações de bicicletas?"
      ],
      "metadata": {
        "id": "5GiXGG_IStjo"
      }
    },
    {
      "cell_type": "code",
      "source": [
        "# Identificar o horário do dia com a menor média de locações\n",
        "horario_menor_media = media_locacoes_por_hora.idxmin()\n",
        "\n",
        "print(\"Horário do dia com a menor média de locações:\", horario_menor_media)"
      ],
      "metadata": {
        "id": "Zh0Vk7r0SwaT",
        "colab": {
          "base_uri": "https://localhost:8080/"
        },
        "outputId": "49c506dc-be64-4897-921b-ba6e921b989f"
      },
      "execution_count": null,
      "outputs": [
        {
          "output_type": "stream",
          "name": "stdout",
          "text": [
            "Horário do dia com a menor média de locações: 4\n"
          ]
        }
      ]
    },
    {
      "cell_type": "markdown",
      "source": [
        "# Que dia da semana contém a maior média de locações de bicicletas?"
      ],
      "metadata": {
        "id": "_y-sBdeoTE-q"
      }
    },
    {
      "cell_type": "code",
      "source": [
        "# Mapear o número do dia da semana para o nome do dia\n",
        "dias_semana = ['Segunda-feira', 'Terça-feira', 'Quarta-feira', 'Quinta-feira', 'Sexta-feira', 'Sábado', 'Domingo']\n",
        "\n",
        "# Calcular a média de locações por dia da semana\n",
        "media_locacoes_por_dia = df.groupby('weekday')['total_count'].mean()\n",
        "\n",
        "# Identificar o dia da semana com a maior média de locações\n",
        "dia_maior_media = media_locacoes_por_dia.idxmax()\n",
        "\n",
        "print(\"Dia da semana com a maior média de locações:\", dias_semana[dia_maior_media])"
      ],
      "metadata": {
        "id": "rXyLuu18TGa7",
        "colab": {
          "base_uri": "https://localhost:8080/"
        },
        "outputId": "c5c5c6e6-cd53-434b-c644-723285c88d02"
      },
      "execution_count": null,
      "outputs": [
        {
          "output_type": "stream",
          "name": "stdout",
          "text": [
            "Dia da semana com a maior média de locações: Sexta-feira\n"
          ]
        }
      ]
    },
    {
      "cell_type": "markdown",
      "source": [
        "# Que dia da semana contém a menor média de locações de bicicletas?"
      ],
      "metadata": {
        "id": "98zDeu37TOUz"
      }
    },
    {
      "cell_type": "code",
      "source": [
        "# Mapear o número do dia da semana para o nome do dia\n",
        "dias_semana = ['Segunda-feira', 'Terça-feira', 'Quarta-feira', 'Quinta-feira', 'Sexta-feira', 'Sábado', 'Domingo']\n",
        "\n",
        "# Calcular a média de locações por dia da semana\n",
        "media_locacoes_por_dia = df.groupby('weekday')['total_count'].mean()\n",
        "\n",
        "# Identificar o dia da semana com a menor média de locações\n",
        "dia_menor_media = media_locacoes_por_dia.idxmin()\n",
        "\n",
        "print(\"Dia da semana com a menor média de locações:\", dias_semana[dia_menor_media])\n"
      ],
      "metadata": {
        "id": "oG5sZ_fXTS8x",
        "colab": {
          "base_uri": "https://localhost:8080/"
        },
        "outputId": "d7a7d512-bc66-4b54-c0a4-627fa4cb3858"
      },
      "execution_count": null,
      "outputs": [
        {
          "output_type": "stream",
          "name": "stdout",
          "text": [
            "Dia da semana com a menor média de locações: Segunda-feira\n"
          ]
        }
      ]
    },
    {
      "cell_type": "markdown",
      "source": [
        "# Às quartas-feiras (weekday = 3), qual o horário do dia contém a maior média de locações de bicicletas?"
      ],
      "metadata": {
        "id": "1cUDGl87TZ64"
      }
    },
    {
      "cell_type": "code",
      "source": [
        "# Filtrar os registros para quartas-feiras\n",
        "df_quartas = df[df['weekday'] == 3]\n",
        "\n",
        "# Calcular a média de locações por horário\n",
        "media_locacoes_por_horario = df_quartas.groupby('hour')['total_count'].mean()\n",
        "\n",
        "# Identificar o horário com a maior média de locações\n",
        "horario_maior_media = media_locacoes_por_horario.idxmax()\n",
        "\n",
        "print(\"Horário do dia com a maior média de locações em quartas-feiras:\", horario_maior_media, \"h\")"
      ],
      "metadata": {
        "id": "gpIKhFMwTb1a",
        "colab": {
          "base_uri": "https://localhost:8080/"
        },
        "outputId": "365b78f2-21b2-4f2a-a168-b2d24f794844"
      },
      "execution_count": null,
      "outputs": [
        {
          "output_type": "stream",
          "name": "stdout",
          "text": [
            "Horário do dia com a maior média de locações em quartas-feiras: 17 h\n"
          ]
        }
      ]
    },
    {
      "cell_type": "markdown",
      "source": [
        "# Aos sábados (weekday = 6), qual o horário do dia contém a maior média de locações de bicicletas?"
      ],
      "metadata": {
        "id": "WeZZgf4nTkur"
      }
    },
    {
      "cell_type": "code",
      "source": [
        "# Filtrar os registros para sábados\n",
        "df_sabados = df[df['weekday'] == 6]\n",
        "\n",
        "# Calcular a média de locações por horário\n",
        "media_locacoes_por_horario = df_sabados.groupby('hour')['total_count'].mean()\n",
        "\n",
        "# Identificar o horário com a maior média de locações\n",
        "horario_maior_media = media_locacoes_por_horario.idxmax()\n",
        "\n",
        "print(\"Horário do dia com a maior média de locações aos sábados:\", horario_maior_media, \"h\")"
      ],
      "metadata": {
        "id": "myNGcMEATnHS",
        "colab": {
          "base_uri": "https://localhost:8080/"
        },
        "outputId": "bb585501-6719-4180-a529-ffd86dee37f1"
      },
      "execution_count": null,
      "outputs": [
        {
          "output_type": "stream",
          "name": "stdout",
          "text": [
            "Horário do dia com a maior média de locações aos sábados: 13 h\n"
          ]
        }
      ]
    }
  ]
}